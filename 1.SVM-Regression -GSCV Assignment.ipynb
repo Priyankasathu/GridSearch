{
 "cells": [
  {
   "cell_type": "code",
   "execution_count": 1,
   "id": "7882e040-4d30-44f4-a801-89b4459fa290",
   "metadata": {},
   "outputs": [
    {
     "data": {
      "text/plain": [
       "Index(['age', 'bmi', 'children', 'charges', 'sex_male', 'smoker_yes'], dtype='object')"
      ]
     },
     "execution_count": 1,
     "metadata": {},
     "output_type": "execute_result"
    }
   ],
   "source": [
    "#importing the Libraies\n",
    "import numpy as np\n",
    "import matplotlib.pyplot as plt\n",
    "import pandas as pd\n",
    "# Reading the Dataset\n",
    "dataset = pd.read_csv('insurance_pre.csv')\n",
    "#its a nominal value so values should be expanded\n",
    "dataset=pd.get_dummies(dataset,drop_first=True)\n",
    "dataset=dataset.astype(int) # expanded columns are boolean so converted into int\n",
    "dataset.columns"
   ]
  },
  {
   "cell_type": "code",
   "execution_count": 3,
   "id": "099c5d3a-edb7-43bd-9b42-bc051b881051",
   "metadata": {},
   "outputs": [
    {
     "data": {
      "text/plain": [
       "(446, 5)"
      ]
     },
     "execution_count": 3,
     "metadata": {},
     "output_type": "execute_result"
    }
   ],
   "source": [
    "#split input and output\n",
    "independent=dataset[['age', 'bmi', 'children','sex_male', 'smoker_yes']]\n",
    "dependent=dataset[['charges']]\n",
    "#split into training set and test\n",
    "from sklearn.model_selection import train_test_split\n",
    "X_train, X_test, y_train, y_test = train_test_split(independent, dependent, test_size = 1/3, random_state = 0)\n",
    "X_test.shape#to check number of rows and columns\n"
   ]
  },
  {
   "cell_type": "code",
   "execution_count": null,
   "id": "2b4611da-e021-4644-9621-ff28f4290eb7",
   "metadata": {},
   "outputs": [
    {
     "name": "stdout",
     "output_type": "stream",
     "text": [
      "Fitting 5 folds for each of 16 candidates, totalling 80 fits\n"
     ]
    }
   ],
   "source": [
    "from sklearn.model_selection import GridSearchCV\n",
    "from sklearn.svm import SVR\n",
    "param_grid = {'kernel':['rbf','poly','sigmoid','linear'],\n",
    "'C':[10,100],'gamma':['auto','scale']}\n",
    "grid = GridSearchCV(SVR(), param_grid, refit = True, verbose = 3,n_jobs=-1)\n",
    "grid.fit(independent, dependent)"
   ]
  },
  {
   "cell_type": "code",
   "execution_count": null,
   "id": "f284fe21-d448-445a-bbb0-a7e3a68e706a",
   "metadata": {},
   "outputs": [],
   "source": [
    "re=grid.cv_results_\n",
    "#print(re)\n",
    "grid_predictions = grid.predict(independent)\n",
    "from sklearn.metrics import r2_score\n",
    "r_score=r2_score(dependent,grid_predictions)\n",
    "print(\"The R_score value for best parameter {}:\".format(grid.best_params_),r_score)"
   ]
  },
  {
   "cell_type": "code",
   "execution_count": null,
   "id": "216bbc33-2aaa-47ce-bbf3-26f696c0263c",
   "metadata": {},
   "outputs": [],
   "source": [
    "age_input=float(input(\"Age:\"))\n",
    "bmi_input=float(input(\"BMI:\"))\n",
    "children_input=float(input(\"Children:\"))\n",
    "sex_male_input=int(input(\"Sex Male 0 or 1:\"))\n",
    "smoker_yes_input=int(input(\"Smoker Yes 0 or 1:\"))\n",
    "Future_Prediction=grid.predict([[age_input,bmi_input,children_input,sex_male_input,smoker_yes_input]])\n",
    "print(f\"Future_Prediction,{Future_Prediction}\")"
   ]
  },
  {
   "cell_type": "code",
   "execution_count": null,
   "id": "fc2b1ad6-c606-4191-b891-4883b9f4b544",
   "metadata": {},
   "outputs": [],
   "source": []
  },
  {
   "cell_type": "code",
   "execution_count": null,
   "id": "27d26a89-d467-4f4e-a859-7aba6294ea45",
   "metadata": {},
   "outputs": [],
   "source": [
    "\n"
   ]
  },
  {
   "cell_type": "code",
   "execution_count": null,
   "id": "f8227411-f1fb-41b4-93cd-a9757db19c9e",
   "metadata": {},
   "outputs": [],
   "source": []
  },
  {
   "cell_type": "code",
   "execution_count": null,
   "id": "5f3647f9-a8d1-433a-b694-44de468f0bab",
   "metadata": {},
   "outputs": [],
   "source": []
  }
 ],
 "metadata": {
  "kernelspec": {
   "display_name": "Python [conda env:base] *",
   "language": "python",
   "name": "conda-base-py"
  },
  "language_info": {
   "codemirror_mode": {
    "name": "ipython",
    "version": 3
   },
   "file_extension": ".py",
   "mimetype": "text/x-python",
   "name": "python",
   "nbconvert_exporter": "python",
   "pygments_lexer": "ipython3",
   "version": "3.12.7"
  }
 },
 "nbformat": 4,
 "nbformat_minor": 5
}
